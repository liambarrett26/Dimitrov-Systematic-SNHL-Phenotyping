{
 "cells": [
  {
   "cell_type": "markdown",
   "metadata": {},
   "source": [
    "# Stage 2 Screening - Title & Abstract  \n",
    "The following notebook retrieves the data-frame of papers that have passed duplication removal. The notebook loops through papers, presenting the title and abstract to the reviewer. The reviewer has the option to:\n",
    "\n",
    "1. accept,  \n",
    "2. reject,  \n",
    "3. don't know,     \n",
    "4. return to later\n",
    "5. save and stop  \n",
    "\n",
    "For `return to later`, the script will go to the next result but leave the previous result as unviewed. For `save and stop`, the script will save the data-frame to .csv and exit the loop. The script will also always ask you if you want to add comments and will prompt a input bar. The reviewer can then re-run the Notebook and pick up from where they left off. Note, there are two version of this notebook and the data-frame it reads from. One for each reviewer (L.B. & L.D.).  \n",
    "\n",
    "During each reviewing session, the data-frame will be read in and find the row where the reviewer last finished their work - this is row 0 if the reviewer has not started. New rows are created to a.) note whether the review has viewed the paper yet  b.) what their decision is and c.) if they have any additional comments."
   ]
  },
  {
   "cell_type": "code",
   "execution_count": 3,
   "metadata": {},
   "outputs": [],
   "source": [
    "# import modules\n",
    "import os\n",
    "import pandas as pd\n",
    "from IPython.display import display, Markdown, clear_output\n",
    "from tqdm.notebook import tqdm"
   ]
  },
  {
   "cell_type": "code",
   "execution_count": 4,
   "metadata": {},
   "outputs": [],
   "source": [
    "def load_dataframes():\n",
    "    \"\"\"Loads the main dataframe and initializes or loads the reviewers' responses dataframe.\"\"\"\n",
    "    main_df_path = '../data/tiab/all_results_deduplicated.csv' # update as necessary\n",
    "    reviewers_resp_df_path = '../data/responses/LB_response_complete.csv'  # update as necessary\n",
    "\n",
    "    main_df = pd.read_csv(main_df_path)\n",
    "\n",
    "    try:\n",
    "        reviewers_resp_df = pd.read_csv(reviewers_resp_df_path)\n",
    "    except FileNotFoundError:\n",
    "        reviewers_resp_df = pd.DataFrame({\n",
    "            'title': [],\n",
    "            'abstract': [],\n",
    "            'viewed': [],\n",
    "            'response': [],\n",
    "            'comments': []\n",
    "        })\n",
    "\n",
    "    return main_df, reviewers_resp_df\n",
    "\n",
    "def adjust_doi(doi):\n",
    "    \"\"\"Adjusts the DOI based on its prefix.\"\"\"\n",
    "    try:\n",
    "        if doi.startswith('https://'):\n",
    "            return doi\n",
    "        elif doi.startswith('10'):\n",
    "            return f'https://dx.doi.org/{doi}'\n",
    "        elif doi.startswith('arXiv'):\n",
    "            return f'https://arxiv.org/abs/{doi.split(\":\")[-1]}'\n",
    "    except AttributeError:\n",
    "        pass\n",
    "\n",
    "    return None\n",
    "\n",
    "def display_record(title, abstract, doi):\n",
    "    \"\"\"Displays the record information.\"\"\"\n",
    "    doi_markdown = f' \\n[DOI]({doi})' if doi else ''\n",
    "    display(Markdown(f'# {title} \\n## Abstract \\n{abstract}\\n{doi_markdown}\\n1. accept,\\n2. reject,\\n3. do not know,\\n4. return to later\\n5. save and stop'))\n",
    "    \n",
    "def get_user_input():\n",
    "    \"\"\"Prompts the user for their decision and optional comments.\"\"\"\n",
    "    decision = input('Please input your decision: ')\n",
    "    if decision in ['5', 'q']:\n",
    "        return decision, None  # Signal to save and exit\n",
    "\n",
    "    comments = ''\n",
    "    if decision in ['1', '2', '3', '4']:\n",
    "        if input('Last check, do you want to add comments? (y/n): ') == 'y':\n",
    "            comments = input('Please type in your comments: ')\n",
    "\n",
    "    return decision, comments\n",
    "\n",
    "def update_reviewers_df(reviewers_resp_df, title, abstract, decision, comments):\n",
    "    \"\"\"Updates the reviewers response dataframe with the new entry.\"\"\"\n",
    "    viewed = decision in ['1', '2', '3']\n",
    "    new_row = pd.DataFrame({'title': [title], 'abstract': [abstract], 'viewed': [viewed], 'response': [decision], 'comments': [comments]})\n",
    "    reviewers_resp_df = pd.concat([reviewers_resp_df, new_row])\n",
    "    return reviewers_resp_df\n",
    "\n",
    "def main():\n",
    "    main_df, reviewers_resp_df = load_dataframes()\n",
    "\n",
    "    for i in tqdm(range(len(main_df))):\n",
    "        clear_output(wait=True)\n",
    "\n",
    "        record = main_df.iloc[i]\n",
    "        title, abstract, doi = record['title'], record['abstract'], record['doi']\n",
    "        doi = adjust_doi(doi)\n",
    "\n",
    "        display_record(title, abstract, doi)\n",
    "\n",
    "        decision, comments = get_user_input()\n",
    "        if decision in ['5', 'q']:\n",
    "            break\n",
    "\n",
    "        reviewers_resp_df = update_reviewers_df(reviewers_resp_df, title, abstract, decision, comments)\n",
    "\n",
    "    reviewers_resp_df.to_csv(\reviewers_resp_df_path, index=False)  # update as necessary\n",
    "    clear_output(wait=True)"
   ]
  },
  {
   "cell_type": "code",
   "execution_count": null,
   "metadata": {},
   "outputs": [],
   "source": [
    "if __name__ == \"__main__\":\n",
    "    main()"
   ]
  },
  {
   "cell_type": "markdown",
   "metadata": {},
   "source": [
    "## Outputs"
   ]
  },
  {
   "cell_type": "code",
   "execution_count": null,
   "metadata": {},
   "outputs": [],
   "source": [
    "# read in and print data frame with all search term results\n",
    "main_df = pd.read_csv('../data/tiab/all_results_deduplicated.csv') # alter path as necessary\n",
    "main_df"
   ]
  },
  {
   "cell_type": "code",
   "execution_count": null,
   "metadata": {},
   "outputs": [],
   "source": [
    "# read in and print data frame of completed Title-Abstract reviews (if exists)\n",
    "try:\n",
    "    reviewers_resp_df = pd.read_csv('../data/responses/LB_response_complete.csv') # alter path as necessary\n",
    "except FileNotFoundError:\n",
    "    reviewers_resp_df = None\n",
    "    pass\n",
    "reviewers_resp_df"
   ]
  }
 ],
 "metadata": {
  "kernelspec": {
   "display_name": "base",
   "language": "python",
   "name": "python3"
  },
  "language_info": {
   "codemirror_mode": {
    "name": "ipython",
    "version": 3
   },
   "file_extension": ".py",
   "mimetype": "text/x-python",
   "name": "python",
   "nbconvert_exporter": "python",
   "pygments_lexer": "ipython3",
   "version": "3.9.19"
  }
 },
 "nbformat": 4,
 "nbformat_minor": 2
}
