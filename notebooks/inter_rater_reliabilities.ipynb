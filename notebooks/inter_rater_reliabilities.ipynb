{
 "cells": [
  {
   "cell_type": "markdown",
   "metadata": {},
   "source": [
    "# Inter-rater reliability checks for Systematic Review\n",
    "Code for inter-rater reliability stats for systematic review of unsupervised machine learning approaches to phenotypes in sensorineural hearing loss. This provide concordance of reviews by the two primary reviewers on this project (LB and LD).\n",
    "\n",
    "This is broken into two separate analyses.\n",
    "\n",
    "- Stage 1: Title & Abstract Review; \n",
    "- Stage 2: Full-text Review."
   ]
  },
  {
   "cell_type": "code",
   "execution_count": 34,
   "metadata": {},
   "outputs": [],
   "source": [
    "import pandas as pd\n",
    "from sklearn.metrics import cohen_kappa_score"
   ]
  },
  {
   "cell_type": "markdown",
   "metadata": {},
   "source": [
    "## Stage 1: Title & Abstract Screening"
   ]
  },
  {
   "cell_type": "code",
   "execution_count": 31,
   "metadata": {},
   "outputs": [],
   "source": [
    "reviewer1_resp_df = pd.read_csv(r'../data/responses/LB_response_complete.csv')\n",
    "reviewer2_resp_df = pd.read_csv(r'../data/responses/LD_response_complete.csv')"
   ]
  },
  {
   "cell_type": "code",
   "execution_count": null,
   "metadata": {},
   "outputs": [],
   "source": [
    "reviewer1_resp_df"
   ]
  },
  {
   "cell_type": "code",
   "execution_count": null,
   "metadata": {},
   "outputs": [],
   "source": [
    "reviewer2_resp_df"
   ]
  },
  {
   "cell_type": "code",
   "execution_count": 36,
   "metadata": {},
   "outputs": [
    {
     "data": {
      "text/plain": [
       "0.8215037534257457"
      ]
     },
     "execution_count": 36,
     "metadata": {},
     "output_type": "execute_result"
    }
   ],
   "source": [
    "reviewer1_labels = reviewer1_resp_df.response.to_numpy()\n",
    "reviewer2_labels = reviewer2_resp_df.response.to_numpy()\n",
    "cohen_kappa_score(reviewer1_labels, reviewer2_labels)"
   ]
  },
  {
   "cell_type": "markdown",
   "metadata": {},
   "source": [
    "## Stage 2: Full-text Screening"
   ]
  },
  {
   "cell_type": "code",
   "execution_count": 43,
   "metadata": {},
   "outputs": [],
   "source": [
    "fullText_resp_df = pd.read_csv(r'../data/responses/full_text_reviews.csv')"
   ]
  },
  {
   "cell_type": "code",
   "execution_count": null,
   "metadata": {},
   "outputs": [],
   "source": [
    "fullText_resp_df.head()"
   ]
  },
  {
   "cell_type": "code",
   "execution_count": 46,
   "metadata": {},
   "outputs": [
    {
     "data": {
      "text/plain": [
       "0.88"
      ]
     },
     "execution_count": 46,
     "metadata": {},
     "output_type": "execute_result"
    }
   ],
   "source": [
    "reviewer1_labels = fullText_resp_df.ld_full_text_response.to_numpy()\n",
    "reviewer2_labels = fullText_resp_df.lb_full_text_response.to_numpy()\n",
    "cohen_kappa_score(reviewer1_labels, reviewer2_labels)"
   ]
  }
 ],
 "metadata": {
  "kernelspec": {
   "display_name": "base",
   "language": "python",
   "name": "python3"
  },
  "language_info": {
   "codemirror_mode": {
    "name": "ipython",
    "version": 3
   },
   "file_extension": ".py",
   "mimetype": "text/x-python",
   "name": "python",
   "nbconvert_exporter": "python",
   "pygments_lexer": "ipython3",
   "version": "3.9.19"
  }
 },
 "nbformat": 4,
 "nbformat_minor": 2
}
